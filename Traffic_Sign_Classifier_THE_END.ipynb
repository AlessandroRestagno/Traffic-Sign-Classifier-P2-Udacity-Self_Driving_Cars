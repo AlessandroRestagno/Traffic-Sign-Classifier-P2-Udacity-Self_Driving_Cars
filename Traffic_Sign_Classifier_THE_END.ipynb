{
 "cells": [
  {
   "cell_type": "markdown",
   "metadata": {},
   "source": [
    "# Self-Driving Car Engineer Nanodegree\n",
    "\n",
    "## Deep Learning\n",
    "\n",
    "## Project: Build a Traffic Sign Recognition Classifier\n",
    "\n",
    "In this notebook, a template is provided for you to implement your functionality in stages, which is required to successfully complete this project. If additional code is required that cannot be included in the notebook, be sure that the Python code is successfully imported and included in your submission if necessary. \n",
    "\n",
    "> **Note**: Once you have completed all of the code implementations, you need to finalize your work by exporting the iPython Notebook as an HTML document. Before exporting the notebook to html, all of the code cells need to have been run so that reviewers can see the final implementation and output. You can then export the notebook by using the menu above and navigating to  \\n\",\n",
    "    \"**File -> Download as -> HTML (.html)**. Include the finished document along with this notebook as your submission. \n",
    "\n",
    "In addition to implementing code, there is a writeup to complete. The writeup should be completed in a separate file, which can be either a markdown file or a pdf document. There is a [write up template](https://github.com/udacity/CarND-Traffic-Sign-Classifier-Project/blob/master/writeup_template.md) that can be used to guide the writing process. Completing the code template and writeup template will cover all of the [rubric points](https://review.udacity.com/#!/rubrics/481/view) for this project.\n",
    "\n",
    "The [rubric](https://review.udacity.com/#!/rubrics/481/view) contains \"Stand Out Suggestions\" for enhancing the project beyond the minimum requirements. The stand out suggestions are optional. If you decide to pursue the \"stand out suggestions\", you can include the code in this Ipython notebook and also discuss the results in the writeup file.\n",
    "\n",
    "\n",
    ">**Note:** Code and Markdown cells can be executed using the **Shift + Enter** keyboard shortcut. In addition, Markdown cells can be edited by typically double-clicking the cell to enter edit mode."
   ]
  },
  {
   "cell_type": "markdown",
   "metadata": {},
   "source": [
    "---\n",
    "## Step 0: Load The Data"
   ]
  },
  {
   "cell_type": "code",
   "execution_count": 13,
   "metadata": {
    "scrolled": false
   },
   "outputs": [
    {
     "name": "stdout",
     "output_type": "stream",
     "text": [
      "Path where Data of this project are stored\n",
      "/home/carnd/CarND-LeNet-Lab/CarND-Traffic-Sign-Classifier-Project\n",
      "\n",
      "Image Shape: (32, 32, 3)\n",
      "\n",
      "Training Set:   34799 samples\n",
      "Validation Set: 4410 samples\n",
      "Test Set:       12630 samples\n",
      "Number of classes:  43\n",
      "0      180\n",
      "1     1980\n",
      "2     2010\n",
      "3     1260\n",
      "4     1770\n",
      "5     1650\n",
      "6      360\n",
      "7     1290\n",
      "8     1260\n",
      "9     1320\n",
      "10    1800\n",
      "11    1170\n",
      "12    1890\n",
      "13    1920\n",
      "14     690\n",
      "15     540\n",
      "16     360\n",
      "17     990\n",
      "18    1080\n",
      "19     180\n",
      "20     300\n",
      "21     270\n",
      "22     330\n",
      "23     450\n",
      "24     240\n",
      "25    1350\n",
      "26     540\n",
      "27     210\n",
      "28     480\n",
      "29     240\n",
      "30     390\n",
      "31     690\n",
      "32     210\n",
      "33     599\n",
      "34     360\n",
      "35    1080\n",
      "36     330\n",
      "37     180\n",
      "38    1860\n",
      "39     270\n",
      "40     300\n",
      "41     210\n",
      "42     210\n",
      "dtype: int64\n"
     ]
    }
   ],
   "source": [
    "# Load pickled data\n",
    "import pickle\n",
    "import os\n",
    "import pandas as pd\n",
    "import numpy as np\n",
    "\n",
    "# TODO: Fill this in based on where you saved the training and testing data\n",
    "\n",
    "print(\"Path where Data of this project are stored\")\n",
    "print(os.getcwd())\n",
    "\n",
    "training_file = 'train.p'\n",
    "validation_file = 'valid.p'\n",
    "testing_file = 'test.p'\n",
    "\n",
    "with open(training_file, mode='rb') as f:\n",
    "    train = pickle.load(f)\n",
    "with open(validation_file, mode='rb') as f:\n",
    "    valid = pickle.load(f)\n",
    "with open(testing_file, mode='rb') as f:\n",
    "    test = pickle.load(f)\n",
    "    \n",
    "X_train, y_train = train['features'], train['labels']\n",
    "X_valid, y_valid = valid['features'], valid['labels']\n",
    "X_test, y_test = test['features'], test['labels']\n",
    "\n",
    "assert(len(X_train) == len(y_train))\n",
    "assert(len(X_valid) == len(y_valid))\n",
    "assert(len(X_test) == len(y_test))\n",
    "\n",
    "testclasses = pd.Series(y_train)\n",
    "unique_classes = testclasses.unique()\n",
    "counts=testclasses.value_counts(sort=False)\n",
    "counts_sorted=counts.sort_index()\n",
    "print()\n",
    "print(\"Image Shape: {}\".format(X_train[0].shape))\n",
    "print()\n",
    "print(\"Training Set:   {} samples\".format(len(X_train)))\n",
    "print(\"Validation Set: {} samples\".format(len(X_valid)))\n",
    "print(\"Test Set:       {} samples\".format(len(X_test)))\n",
    "print(\"Number of classes: \", len(unique_classes))\n",
    "\n",
    "print(counts_sorted)"
   ]
  },
  {
   "cell_type": "markdown",
   "metadata": {},
   "source": [
    "---\n",
    "\n",
    "## Step 1: Dataset Summary & Exploration\n",
    "\n",
    "The pickled data is a dictionary with 4 key/value pairs:\n",
    "\n",
    "- `'features'` is a 4D array containing raw pixel data of the traffic sign images, (num examples, width, height, channels).\n",
    "- `'labels'` is a 1D array containing the label/class id of the traffic sign. The file `signnames.csv` contains id -> name mappings for each id.\n",
    "- `'sizes'` is a list containing tuples, (width, height) representing the original width and height the image.\n",
    "- `'coords'` is a list containing tuples, (x1, y1, x2, y2) representing coordinates of a bounding box around the sign in the image. **THESE COORDINATES ASSUME THE ORIGINAL IMAGE. THE PICKLED DATA CONTAINS RESIZED VERSIONS (32 by 32) OF THESE IMAGES**\n",
    "\n",
    "Complete the basic data summary below. Use python, numpy and/or pandas methods to calculate the data summary rather than hard coding the results. For example, the [pandas shape method](http://pandas.pydata.org/pandas-docs/stable/generated/pandas.DataFrame.shape.html) might be useful for calculating some of the summary results. "
   ]
  },
  {
   "cell_type": "markdown",
   "metadata": {},
   "source": [
    "## Provide a Basic Summary of the Data Set Using Python, Numpy and/or Pandas"
   ]
  },
  {
   "cell_type": "markdown",
   "metadata": {},
   "source": [
    "### Include an exploratory visualization of the dataset"
   ]
  },
  {
   "cell_type": "markdown",
   "metadata": {},
   "source": [
    "### View a sample of the data set"
   ]
  },
  {
   "cell_type": "code",
   "execution_count": 14,
   "metadata": {
    "scrolled": false
   },
   "outputs": [
    {
     "name": "stdout",
     "output_type": "stream",
     "text": [
      "10\n",
      "uint8\n",
      "(34799,)\n"
     ]
    },
    {
     "data": {
      "image/png": "[encoded data removed]",
      "text/plain": [
       "<matplotlib.figure.Figure at 0x7f55595bef60>"
      ]
     },
     "metadata": {},
     "output_type": "display_data"
    }
   ],
   "source": [
    "import random\n",
    "import numpy as np\n",
    "import matplotlib.pyplot as plt\n",
    "%matplotlib inline\n",
    "\n",
    "index = random.randint(0, len(X_train))\n",
    "image = X_train[index].squeeze()\n",
    "\n",
    "print(y_train[index])\n",
    "print(y_train[index].dtype)\n",
    "print(y_train.shape)\n",
    "plt.figure(figsize=(1,1))\n",
    "plt.imshow(image)\n",
    "plt.show()\n"
   ]
  },
  {
   "cell_type": "markdown",
   "metadata": {},
   "source": [
    "Visualize the German Traffic Signs Dataset using the pickled file(s). This is open ended, suggestions include: plotting traffic sign images, plotting the count of each sign, etc. \n",
    "\n",
    "The [Matplotlib](http://matplotlib.org/) [examples](http://matplotlib.org/examples/index.html) and [gallery](http://matplotlib.org/gallery.html) pages are a great resource for doing visualizations in Python.\n",
    "\n",
    "**NOTE:** It's recommended you start with something simple first. If you wish to do more, come back to it after you've completed the rest of the sections. It can be interesting to look at the distribution of classes in the training, validation and test set. Is the distribution the same? Are there more examples of some classes than others?"
   ]
  },
  {
   "cell_type": "markdown",
   "metadata": {},
   "source": [
    "### Plotting the count of each sign"
   ]
  },
  {
   "cell_type": "code",
   "execution_count": 15,
   "metadata": {
    "scrolled": false
   },
   "outputs": [
    {
     "data": {
      "image/png": "[encoded data removed]",
      "text/plain": [
       "<matplotlib.figure.Figure at 0x7f5514495b70>"
      ]
     },
     "metadata": {},
     "output_type": "display_data"
    }
   ],
   "source": [
    "### Data exploration visualization code goes here.\n",
    "### Feel free to use as many code cells as needed.\n",
    "import matplotlib.mlab as mlab\n",
    "import matplotlib.pyplot as plt\n",
    "# Visualizations will be shown in the notebook.\n",
    "%matplotlib inline\n",
    "\n",
    "plt.axis([-1, 43, 0, 2200])\n",
    "plt.bar( np.arange(43), counts_sorted, align='center' )\n",
    "plt.xlabel('Classes')\n",
    "plt.ylabel('Counts')\n",
    "plt.grid(True)\n",
    "plt.show()\n",
    "\n"
   ]
  },
  {
   "cell_type": "markdown",
   "metadata": {},
   "source": [
    "----\n",
    "\n",
    "## Step 2: Design and Test a Model Architecture\n",
    "\n",
    "Design and implement a deep learning model that learns to recognize traffic signs. Train and test your model on the [German Traffic Sign Dataset](http://benchmark.ini.rub.de/?section=gtsrb&subsection=dataset).\n",
    "\n",
    "The LeNet-5 implementation shown in the [classroom](https://classroom.udacity.com/nanodegrees/nd013/parts/fbf77062-5703-404e-b60c-95b78b2f3f9e/modules/6df7ae49-c61c-4bb2-a23e-6527e69209ec/lessons/601ae704-1035-4287-8b11-e2c2716217ad/concepts/d4aca031-508f-4e0b-b493-e7b706120f81) at the end of the CNN lesson is a solid starting point. You'll have to change the number of classes and possibly the preprocessing, but aside from that it's plug and play! \n",
    "\n",
    "With the LeNet-5 solution from the lecture, you should expect a validation set accuracy of about 0.89. To meet specifications, the validation set accuracy will need to be at least 0.93. It is possible to get an even higher accuracy, but 0.93 is the minimum for a successful project submission. \n",
    "\n",
    "There are various aspects to consider when thinking about this problem:\n",
    "\n",
    "- Neural network architecture (is the network over or underfitting?)\n",
    "- Play around preprocessing techniques (normalization, rgb to grayscale, etc)\n",
    "- Number of examples per label (some have more than others).\n",
    "- Generate fake data.\n",
    "\n",
    "Here is an example of a [published baseline model on this problem](http://yann.lecun.com/exdb/publis/pdf/sermanet-ijcnn-11.pdf). It's not required to be familiar with the approach used in the paper but, it's good practice to try to read papers like these."
   ]
  },
  {
   "cell_type": "markdown",
   "metadata": {},
   "source": [
    "### Pre-process the Data Set (normalization, grayscale, etc.)"
   ]
  },
  {
   "cell_type": "markdown",
   "metadata": {},
   "source": [
    "Minimally, the image data should be normalized so that the data has mean zero and equal variance. For image data, `(pixel - 128)/ 128` is a quick way to approximately normalize the data and can be used in this project. \n",
    "\n",
    "Other pre-processing steps are optional. You can try different techniques to see if it improves performance. \n",
    "\n",
    "Use the code cell (or multiple code cells, if necessary) to implement the first step of your project."
   ]
  },
  {
   "cell_type": "markdown",
   "metadata": {},
   "source": [
    "### Augmentation"
   ]
  },
  {
   "cell_type": "markdown",
   "metadata": {},
   "source": [
    "#### Classes with less than 1,000 samples"
   ]
  },
  {
   "cell_type": "code",
   "execution_count": 17,
   "metadata": {
    "scrolled": true
   },
   "outputs": [
    {
     "name": "stdout",
     "output_type": "stream",
     "text": [
      "[0, 6, 14, 15, 16, 17, 19, 20, 21, 22, 23, 24, 26, 27, 28, 29, 30, 31, 32, 33, 34, 36, 37, 39, 40, 41, 42]\n",
      "0 UNDER or EQUALS to thousand\n",
      "1 OVER one thousand\n",
      "2 OVER one thousand\n",
      "3 OVER one thousand\n",
      "4 OVER one thousand\n",
      "5 OVER one thousand\n",
      "6 UNDER or EQUALS to thousand\n",
      "7 OVER one thousand\n",
      "8 OVER one thousand\n",
      "9 OVER one thousand\n",
      "10 OVER one thousand\n",
      "11 OVER one thousand\n",
      "12 OVER one thousand\n",
      "13 OVER one thousand\n",
      "14 UNDER or EQUALS to thousand\n",
      "15 UNDER or EQUALS to thousand\n",
      "16 UNDER or EQUALS to thousand\n",
      "17 UNDER or EQUALS to thousand\n",
      "18 OVER one thousand\n",
      "19 UNDER or EQUALS to thousand\n",
      "20 UNDER or EQUALS to thousand\n",
      "21 UNDER or EQUALS to thousand\n",
      "22 UNDER or EQUALS to thousand\n",
      "23 UNDER or EQUALS to thousand\n",
      "24 UNDER or EQUALS to thousand\n",
      "25 OVER one thousand\n",
      "26 UNDER or EQUALS to thousand\n",
      "27 UNDER or EQUALS to thousand\n",
      "28 UNDER or EQUALS to thousand\n",
      "29 UNDER or EQUALS to thousand\n",
      "30 UNDER or EQUALS to thousand\n",
      "31 UNDER or EQUALS to thousand\n",
      "32 UNDER or EQUALS to thousand\n",
      "33 UNDER or EQUALS to thousand\n",
      "34 UNDER or EQUALS to thousand\n",
      "35 OVER one thousand\n",
      "36 UNDER or EQUALS to thousand\n",
      "37 UNDER or EQUALS to thousand\n",
      "38 OVER one thousand\n",
      "39 UNDER or EQUALS to thousand\n",
      "40 UNDER or EQUALS to thousand\n",
      "41 UNDER or EQUALS to thousand\n",
      "42 UNDER or EQUALS to thousand\n"
     ]
    }
   ],
   "source": [
    "scarce=[]\n",
    "\n",
    "for index in range (0,len(counts_sorted)):\n",
    "    if counts_sorted[index]<1000:\n",
    "        scarce.append(index)\n",
    "    \n",
    "print(scarce)\n",
    "\n",
    "for id in range (0,43):\n",
    "    if id not in scarce:\n",
    "        print(id,\"OVER one thousand\")\n",
    "    if id in scarce:\n",
    "        print(id,\"UNDER or EQUALS to thousand\")"
   ]
  },
  {
   "cell_type": "markdown",
   "metadata": {},
   "source": [
    "#### Classes with less than 500 samples"
   ]
  },
  {
   "cell_type": "code",
   "execution_count": 19,
   "metadata": {
    "scrolled": true
   },
   "outputs": [
    {
     "name": "stdout",
     "output_type": "stream",
     "text": [
      "[0, 6, 16, 19, 20, 21, 22, 23, 24, 27, 28, 29, 30, 32, 34, 36, 37, 39, 40, 41, 42]\n",
      "0 UNDER or EQUALS to five hundreds\n",
      "1 OVER five hundreds\n",
      "2 OVER five hundreds\n",
      "3 OVER five hundreds\n",
      "4 OVER five hundreds\n",
      "5 OVER five hundreds\n",
      "6 UNDER or EQUALS to five hundreds\n",
      "7 OVER five hundreds\n",
      "8 OVER five hundreds\n",
      "9 OVER five hundreds\n",
      "10 OVER five hundreds\n",
      "11 OVER five hundreds\n",
      "12 OVER five hundreds\n",
      "13 OVER five hundreds\n",
      "14 OVER five hundreds\n",
      "15 OVER five hundreds\n",
      "16 UNDER or EQUALS to five hundreds\n",
      "17 OVER five hundreds\n",
      "18 OVER five hundreds\n",
      "19 UNDER or EQUALS to five hundreds\n",
      "20 UNDER or EQUALS to five hundreds\n",
      "21 UNDER or EQUALS to five hundreds\n",
      "22 UNDER or EQUALS to five hundreds\n",
      "23 UNDER or EQUALS to five hundreds\n",
      "24 UNDER or EQUALS to five hundreds\n",
      "25 OVER five hundreds\n",
      "26 OVER five hundreds\n",
      "27 UNDER or EQUALS to five hundreds\n",
      "28 UNDER or EQUALS to five hundreds\n",
      "29 UNDER or EQUALS to five hundreds\n",
      "30 UNDER or EQUALS to five hundreds\n",
      "31 OVER five hundreds\n",
      "32 UNDER or EQUALS to five hundreds\n",
      "33 OVER five hundreds\n",
      "34 UNDER or EQUALS to five hundreds\n",
      "35 OVER five hundreds\n",
      "36 UNDER or EQUALS to five hundreds\n",
      "37 UNDER or EQUALS to five hundreds\n",
      "38 OVER five hundreds\n",
      "39 UNDER or EQUALS to five hundreds\n",
      "40 UNDER or EQUALS to five hundreds\n",
      "41 UNDER or EQUALS to five hundreds\n",
      "42 UNDER or EQUALS to five hundreds\n"
     ]
    }
   ],
   "source": [
    "veryscarce=[]\n",
    "\n",
    "for index in range (0,len(counts_sorted)):\n",
    "    if counts_sorted[index]<500:\n",
    "        veryscarce.append(index)\n",
    "    \n",
    "print(veryscarce)\n",
    "\n",
    "for id in range (0,43):\n",
    "    if id not in veryscarce:\n",
    "        print(id,\"OVER five hundreds\")\n",
    "    if id in veryscarce:\n",
    "        print(id,\"UNDER or EQUALS to five hundreds\")"
   ]
  },
  {
   "cell_type": "code",
   "execution_count": 20,
   "metadata": {},
   "outputs": [
    {
     "name": "stdout",
     "output_type": "stream",
     "text": [
      "10109\n"
     ]
    }
   ],
   "source": [
    "under_one_thousand=0\n",
    "\n",
    "for index in range (0,len(y_train)):\n",
    "    if y_train[index] in scarce:\n",
    "        under_one_thousand=under_one_thousand+1\n",
    "\n",
    "print(under_one_thousand)"
   ]
  },
  {
   "cell_type": "code",
   "execution_count": 21,
   "metadata": {},
   "outputs": [
    {
     "name": "stdout",
     "output_type": "stream",
     "text": [
      "6060\n"
     ]
    }
   ],
   "source": [
    "under_fivehundreds=0\n",
    "\n",
    "for index in range (0,len(y_train)):\n",
    "    if y_train[index] in veryscarce:\n",
    "        under_fivehundreds=under_fivehundreds+1\n",
    "\n",
    "print(under_fivehundreds)        "
   ]
  },
  {
   "cell_type": "markdown",
   "metadata": {},
   "source": [
    "#### Brightness"
   ]
  },
  {
   "cell_type": "code",
   "execution_count": 9,
   "metadata": {},
   "outputs": [
    {
     "name": "stdout",
     "output_type": "stream",
     "text": [
      "uint8\n",
      "(10109, 32, 32, 3)\n",
      "(10109,)\n"
     ]
    }
   ],
   "source": [
    "X_train_bright=np.uint8(np.zeros((under_one_thousand,32,32,3)))\n",
    "y_train_bright=np.zeros((under_one_thousand))\n",
    "X_flat=np.uint8(np.zeros((under_one_thousand,3072)))\n",
    "X_bf=np.uint8(np.zeros((under_one_thousand,3072)))\n",
    "\n",
    "brightness=50\n",
    "\n",
    "ind_bri=0\n",
    "\n",
    "for index in range (0,len(X_train)):\n",
    "    if y_train[index] in scarce:\n",
    "        y_train_bright[ind_bri]=np.uint8(y_train[index])\n",
    "        X_flat[ind_bri]=X_train[index].flatten()\n",
    "        ind_bri=ind_bri+1\n",
    "        for a in range (0,3072):\n",
    "            if X_flat[ind_bri-1][a]<=(255-brightness):\n",
    "                X_bf[ind_bri-1][a]=np.uint8(X_flat[ind_bri-1][a]+brightness)\n",
    "            else:\n",
    "                X_bf[ind_bri-1][a]=np.uint8(255)\n",
    "\n",
    "for index in range (0,len(X_bf)):\n",
    "    X_train_bright[index]=np.reshape(X_bf[index],(32,32,3))\n",
    "\n",
    "print(X_train_bright.dtype)\n",
    "print(X_train_bright.shape)\n",
    "print(y_train_bright.shape)"
   ]
  },
  {
   "cell_type": "code",
   "execution_count": 10,
   "metadata": {},
   "outputs": [
    {
     "name": "stdout",
     "output_type": "stream",
     "text": [
      "10109\n"
     ]
    },
    {
     "data": {
      "image/png": "[encoded data removed]",
      "text/plain": [
       "<matplotlib.figure.Figure at 0x7f3701f6ba20>"
      ]
     },
     "metadata": {},
     "output_type": "display_data"
    },
    {
     "name": "stdout",
     "output_type": "stream",
     "text": [
      "(32, 32, 3)\n",
      "uint8\n"
     ]
    },
    {
     "data": {
      "image/png": "[encoded data removed]",
      "text/plain": [
       "<matplotlib.figure.Figure at 0x7f36ccfa8dd8>"
      ]
     },
     "metadata": {},
     "output_type": "display_data"
    },
    {
     "name": "stdout",
     "output_type": "stream",
     "text": [
      "(32, 32, 3)\n",
      "uint8\n"
     ]
    }
   ],
   "source": [
    "print(ind_bri)\n",
    "plt.figure(figsize=(1,1))\n",
    "plt.imshow(X_train[0], vmin=0, vmax=255)\n",
    "plt.show()\n",
    "print(X_train[0].shape)\n",
    "print(X_train[0].dtype)\n",
    "plt.figure(figsize=(1,1))\n",
    "plt.imshow(X_train_bright[0], vmin=0, vmax=255)\n",
    "plt.show()\n",
    "print(X_train_bright[0].shape)\n",
    "print(X_train_bright[0].dtype)"
   ]
  },
  {
   "cell_type": "code",
   "execution_count": null,
   "metadata": {
    "collapsed": true
   },
   "outputs": [],
   "source": []
  },
  {
   "cell_type": "markdown",
   "metadata": {},
   "source": [
    "#### Blurring"
   ]
  },
  {
   "cell_type": "code",
   "execution_count": 22,
   "metadata": {},
   "outputs": [
    {
     "name": "stdout",
     "output_type": "stream",
     "text": [
      "uint8\n",
      "(6060, 32, 32, 3)\n"
     ]
    }
   ],
   "source": [
    "import numpy as np\n",
    "import matplotlib.pyplot as plt\n",
    "import matplotlib.image as mpimg\n",
    "from scipy.ndimage import gaussian_filter\n",
    "\n",
    "X_train_blurred=np.uint8(np.zeros((under_fivehundreds,32,32,3)))\n",
    "y_train_blurred=np.zeros((under_fivehundreds))\n",
    "\n",
    "ind_blur=0\n",
    "\n",
    "for index in range (0,(len(X_train))):\n",
    "    if y_train[index] in veryscarce:\n",
    "        X_train_blurred[ind_blur]=np.uint8(gaussian_filter(X_train[index],1))\n",
    "        y_train_blurred[ind_blur]=np.uint8(y_train[index])\n",
    "        ind_blur=ind_blur+1\n",
    "\n",
    "print(X_train_blurred.dtype)\n",
    "print(X_train_blurred.shape)"
   ]
  },
  {
   "cell_type": "code",
   "execution_count": 23,
   "metadata": {},
   "outputs": [
    {
     "data": {
      "image/png": "[encoded data removed]",
      "text/plain": [
       "<matplotlib.figure.Figure at 0x7f552d3bee10>"
      ]
     },
     "metadata": {},
     "output_type": "display_data"
    },
    {
     "data": {
      "image/png": "[encoded data removed]",
      "text/plain": [
       "<matplotlib.figure.Figure at 0x7f54d80963c8>"
      ]
     },
     "metadata": {},
     "output_type": "display_data"
    }
   ],
   "source": [
    "plt.figure(figsize=(1,1))\n",
    "plt.imshow(X_train[0], vmin=0, vmax=255)\n",
    "plt.show()\n",
    "plt.figure(figsize=(1,1))\n",
    "plt.imshow(X_train_blurred[0], vmin=0, vmax=255)\n",
    "plt.show()"
   ]
  },
  {
   "cell_type": "markdown",
   "metadata": {},
   "source": [
    "### Rotation"
   ]
  },
  {
   "cell_type": "code",
   "execution_count": 25,
   "metadata": {
    "scrolled": false
   },
   "outputs": [
    {
     "name": "stdout",
     "output_type": "stream",
     "text": [
      "float64\n",
      "(6060, 32, 32, 3)\n"
     ]
    }
   ],
   "source": [
    "from scipy.ndimage import rotate\n",
    "\n",
    "X_train_rotated=np.zeros((under_fivehundreds,32,32,3))\n",
    "y_train_rotated=np.zeros((under_fivehundreds))\n",
    "\n",
    "ind_rot=0\n",
    "\n",
    "for index in range (0,(len(X_train))):\n",
    "    if y_train[index] in veryscarce:\n",
    "        X_train_rotated[ind_rot]=rotate(X_train[index], 25,reshape=False)\n",
    "        y_train_rotated[ind_rot]=np.uint8(y_train[index])\n",
    "        ind_rot=ind_rot+1\n",
    "\n",
    "print(X_train_rotated.dtype)\n",
    "print(X_train_rotated.shape)"
   ]
  },
  {
   "cell_type": "code",
   "execution_count": 27,
   "metadata": {},
   "outputs": [
    {
     "data": {
      "image/png": "[encoded data removed]",
      "text/plain": [
       "<matplotlib.figure.Figure at 0x7f5522db5550>"
      ]
     },
     "metadata": {},
     "output_type": "display_data"
    },
    {
     "data": {
      "image/png": "[encoded data removed]",
      "text/plain": [
       "<matplotlib.figure.Figure at 0x7f55571a9be0>"
      ]
     },
     "metadata": {},
     "output_type": "display_data"
    }
   ],
   "source": [
    "plt.figure(figsize=(1,1))\n",
    "plt.imshow(X_train[0], vmin=0, vmax=255)\n",
    "plt.show()\n",
    "plt.figure(figsize=(1,1))\n",
    "plt.imshow(np.uint8(X_train_rotated[0]), vmin=0, vmax=255)\n",
    "plt.show()"
   ]
  },
  {
   "cell_type": "markdown",
   "metadata": {},
   "source": [
    "### Flipping"
   ]
  },
  {
   "cell_type": "code",
   "execution_count": 28,
   "metadata": {
    "collapsed": true,
    "scrolled": true
   },
   "outputs": [],
   "source": [
    "agito = testclasses.to_frame('class')\n",
    "groupped = agito.groupby('class').head(100)"
   ]
  },
  {
   "cell_type": "code",
   "execution_count": 29,
   "metadata": {},
   "outputs": [
    {
     "name": "stdout",
     "output_type": "stream",
     "text": [
      "float64\n",
      "(4300, 32, 32, 3)\n"
     ]
    }
   ],
   "source": [
    "X_train_flipped=np.zeros((4300,32,32,3))\n",
    "y_train_flipped=np.zeros((4300))\n",
    "\n",
    "ind_fli=0\n",
    "\n",
    "for index in range (0,(len(X_train))):\n",
    "    if index in groupped.index:\n",
    "        X_train_flipped[ind_fli]=np.flipud(X_train[index])\n",
    "        y_train_flipped[ind_fli]=np.uint8(y_train[index])\n",
    "        ind_fli=ind_fli+1\n",
    "\n",
    "print(X_train_flipped.dtype)\n",
    "print(X_train_flipped.shape)\n"
   ]
  },
  {
   "cell_type": "code",
   "execution_count": 30,
   "metadata": {},
   "outputs": [
    {
     "data": {
      "image/png": "[encoded data removed]",
      "text/plain": [
       "<matplotlib.figure.Figure at 0x7f5522dbfcf8>"
      ]
     },
     "metadata": {},
     "output_type": "display_data"
    },
    {
     "data": {
      "image/png": "[encoded data removed]",
      "text/plain": [
       "<matplotlib.figure.Figure at 0x7f54d079e4a8>"
      ]
     },
     "metadata": {},
     "output_type": "display_data"
    }
   ],
   "source": [
    "plt.figure(figsize=(1,1))\n",
    "plt.imshow(X_train[0], vmin=0, vmax=255)\n",
    "plt.show()\n",
    "plt.figure(figsize=(1,1))\n",
    "plt.imshow(np.uint8(X_train_flipped[0]), vmin=0, vmax=255)\n",
    "plt.show()"
   ]
  },
  {
   "cell_type": "markdown",
   "metadata": {},
   "source": [
    "### Randomly rotate 100 images per class"
   ]
  },
  {
   "cell_type": "code",
   "execution_count": 32,
   "metadata": {},
   "outputs": [
    {
     "name": "stdout",
     "output_type": "stream",
     "text": [
      "float64\n",
      "(4300, 32, 32, 3)\n",
      "(4300,)\n"
     ]
    }
   ],
   "source": [
    "from scipy.ndimage import rotate\n",
    "from random import randint\n",
    "\n",
    "X_train_rr=np.zeros((4300,32,32,3))\n",
    "y_train_rr=np.zeros((4300))\n",
    "\n",
    "ind_rr=0\n",
    "\n",
    "for index in range (0,(len(X_train))):\n",
    "     if index in groupped.index:\n",
    "            randeg=randint(-45,45)\n",
    "            X_train_rr[ind_rr]=rotate(X_train[index], randeg,reshape=False)\n",
    "            y_train_rr[ind_rr]=np.uint8(y_train[index])\n",
    "            ind_rr=ind_rr+1\n",
    "\n",
    "print(X_train_rr.dtype)\n",
    "print(X_train_rr.shape)\n",
    "print(y_train_rr.shape)"
   ]
  },
  {
   "cell_type": "code",
   "execution_count": 33,
   "metadata": {},
   "outputs": [
    {
     "data": {
      "image/png": "[encoded data removed]",
      "text/plain": [
       "<matplotlib.figure.Figure at 0x7f5522e06f60>"
      ]
     },
     "metadata": {},
     "output_type": "display_data"
    },
    {
     "data": {
      "image/png": "[encoded data removed]",
      "text/plain": [
       "<matplotlib.figure.Figure at 0x7f5522e3d4a8>"
      ]
     },
     "metadata": {},
     "output_type": "display_data"
    }
   ],
   "source": [
    "plt.figure(figsize=(1,1))\n",
    "plt.imshow(X_train[0], vmin=0, vmax=255)\n",
    "plt.show()\n",
    "plt.figure(figsize=(1,1))\n",
    "plt.imshow(np.uint8(X_train_rr[0]), vmin=0, vmax=255)\n",
    "plt.show()"
   ]
  },
  {
   "cell_type": "markdown",
   "metadata": {},
   "source": [
    "### Blur 150 images per class"
   ]
  },
  {
   "cell_type": "code",
   "execution_count": 34,
   "metadata": {},
   "outputs": [
    {
     "name": "stdout",
     "output_type": "stream",
     "text": [
      "uint8\n",
      "(6450, 32, 32, 3)\n",
      "6450\n",
      "float64\n"
     ]
    }
   ],
   "source": [
    "import numpy as np\n",
    "import matplotlib.pyplot as plt\n",
    "import matplotlib.image as mpimg\n",
    "from scipy.ndimage import gaussian_filter\n",
    "\n",
    "groupie = agito.groupby('class').head(150)\n",
    "\n",
    "X_train_rb=np.uint8(np.zeros((6450,32,32,3)))\n",
    "y_train_rb=np.zeros((6450))\n",
    "\n",
    "ind_rb=0\n",
    "\n",
    "for index in range (0,(len(X_train))):\n",
    "     if index in groupie.index:\n",
    "        X_train_rb[ind_rb]=np.uint8(gaussian_filter(X_train[index],1))\n",
    "        y_train_rb[ind_rb]=np.uint8(y_train[index])\n",
    "        ind_rb=ind_rb+1\n",
    "\n",
    "print(X_train_rb.dtype)\n",
    "print(X_train_rb.shape)\n",
    "print(ind_rb)\n",
    "print(y_train_rb.dtype)"
   ]
  },
  {
   "cell_type": "code",
   "execution_count": 35,
   "metadata": {},
   "outputs": [
    {
     "name": "stdout",
     "output_type": "stream",
     "text": [
      "6450\n"
     ]
    },
    {
     "data": {
      "image/png": "[encoded data removed]",
      "text/plain": [
       "<matplotlib.figure.Figure at 0x7f54e2775518>"
      ]
     },
     "metadata": {},
     "output_type": "display_data"
    },
    {
     "data": {
      "image/png": "[encoded data removed]",
      "text/plain": [
       "<matplotlib.figure.Figure at 0x7f54da032b38>"
      ]
     },
     "metadata": {},
     "output_type": "display_data"
    }
   ],
   "source": [
    "print(ind_rb)\n",
    "plt.figure(figsize=(1,1))\n",
    "plt.imshow(X_train[0], vmin=0, vmax=255)\n",
    "plt.show()\n",
    "plt.figure(figsize=(1,1))\n",
    "plt.imshow(X_train_rb[0], vmin=0, vmax=255)\n",
    "plt.show()"
   ]
  },
  {
   "cell_type": "markdown",
   "metadata": {},
   "source": [
    "### Concatenation"
   ]
  },
  {
   "cell_type": "code",
   "execution_count": 18,
   "metadata": {},
   "outputs": [
    {
     "name": "stdout",
     "output_type": "stream",
     "text": [
      "(72078, 32, 32, 3)\n",
      "uint8\n",
      "(72078,)\n",
      "uint8\n"
     ]
    }
   ],
   "source": [
    "X_train_aug=np.uint8(np.concatenate((X_train,X_train_bright,X_train_blurred,X_train_rotated,X_train_flipped,X_train_rr,X_train_rb)))\n",
    "print(X_train_aug.shape)\n",
    "print(X_train_aug.dtype)\n",
    "\n",
    "\n",
    "y_train_aug=np.uint8(np.concatenate((y_train,y_train_bright,y_train_blurred,y_train_rotated,y_train_flipped,y_train_rr,y_train_rb)))\n",
    "print(y_train_aug.shape)\n",
    "print(y_train_aug.dtype)"
   ]
  },
  {
   "cell_type": "code",
   "execution_count": 19,
   "metadata": {},
   "outputs": [
    {
     "data": {
      "image/png": "[encoded data removed]",
      "text/plain": [
       "<matplotlib.figure.Figure at 0x7f36bacf0f28>"
      ]
     },
     "metadata": {},
     "output_type": "display_data"
    }
   ],
   "source": [
    "testclassesaug = pd.Series(y_train_aug)\n",
    "unique_classes_aug = testclassesaug.unique()\n",
    "counts_aug=testclassesaug.value_counts(sort=False)\n",
    "counts_sorted_aug=counts_aug.sort_index()\n",
    "\n",
    "plt.axis([-1, 43, 0, 2600])\n",
    "plt.bar( np.arange(43), counts_sorted_aug, align='center' )\n",
    "plt.xlabel('Classes')\n",
    "plt.ylabel('Counts')\n",
    "plt.grid(True)\n",
    "plt.show()"
   ]
  },
  {
   "cell_type": "code",
   "execution_count": 20,
   "metadata": {},
   "outputs": [
    {
     "data": {
      "image/png": "[encoded data removed]",
      "text/plain": [
       "<matplotlib.figure.Figure at 0x7f36b3228438>"
      ]
     },
     "metadata": {},
     "output_type": "display_data"
    },
    {
     "data": {
      "image/png": "[encoded data removed]",
      "text/plain": [
       "<matplotlib.figure.Figure at 0x7f36b3310160>"
      ]
     },
     "metadata": {},
     "output_type": "display_data"
    },
    {
     "name": "stdout",
     "output_type": "stream",
     "text": [
      "float64\n",
      "uint8\n",
      "uint8\n"
     ]
    }
   ],
   "source": [
    "ind=745\n",
    "plt.figure(figsize=(1,1))\n",
    "plt.imshow(X_train_aug[50000])\n",
    "plt.show()\n",
    "plt.figure(figsize=(1,1))\n",
    "plt.imshow(X_train[124])\n",
    "plt.show()\n",
    "print(X_train_rotated[ind].dtype)\n",
    "print(X_train[ind].dtype)\n",
    "#print(X_train_rotated[ind][:,0])\n",
    "z=np.uint8(X_train_rotated[ind])\n",
    "y=np.uint8(z)\n",
    "print(z.dtype)\n",
    "#print(X_train[ind][:,0])"
   ]
  },
  {
   "cell_type": "markdown",
   "metadata": {},
   "source": [
    "#### Grayscale"
   ]
  },
  {
   "cell_type": "code",
   "execution_count": 22,
   "metadata": {},
   "outputs": [
    {
     "data": {
      "image/png": "[encoded data removed]",
      "text/plain": [
       "<matplotlib.figure.Figure at 0x7f36b33b7b00>"
      ]
     },
     "metadata": {},
     "output_type": "display_data"
    },
    {
     "data": {
      "image/png": "[encoded data removed]",
      "text/plain": [
       "<matplotlib.figure.Figure at 0x7f36cce5e128>"
      ]
     },
     "metadata": {},
     "output_type": "display_data"
    },
    {
     "data": {
      "image/png": "[encoded data removed]",
      "text/plain": [
       "<matplotlib.figure.Figure at 0x7f36ccffc5c0>"
      ]
     },
     "metadata": {},
     "output_type": "display_data"
    }
   ],
   "source": [
    "import numpy as np\n",
    "import matplotlib.pyplot as plt\n",
    "import matplotlib.image as mpimg\n",
    "\n",
    "X_train_gray = np.zeros((len(X_train_aug),32,32))\n",
    "X_valid_gray = np.zeros((len(X_valid),32,32))\n",
    "X_test_gray = np.zeros((len(X_test),32,32))\n",
    "\n",
    "def rgb2gray(rgb):\n",
    "    return np.dot(rgb[...,:3], [0.299, 0.587, 0.114])\n",
    "\n",
    "for index in range (0,(len(X_train_aug))):\n",
    "    X_train_gray[index] = rgb2gray(X_train_aug[index])\n",
    "\n",
    "for index in range (0,(len(X_valid))):\n",
    "    X_valid_gray[index] = rgb2gray(X_valid[index])\n",
    "    \n",
    "for index in range (0,(len(X_test))):\n",
    "    X_test_gray[index] = rgb2gray(X_test[index])\n",
    "\n",
    "plt.figure(figsize=(1,1))\n",
    "plt.imshow(X_train[124])\n",
    "plt.show()\n",
    "plt.figure(figsize=(1,1))\n",
    "plt.imshow(X_train_gray[124],cmap='gray')\n",
    "plt.show()\n",
    "plt.figure(figsize=(1,1))\n",
    "plt.imshow(X_valid_gray[124],cmap='gray')\n",
    "plt.show()\n"
   ]
  },
  {
   "cell_type": "markdown",
   "metadata": {},
   "source": [
    "#### Normalization"
   ]
  },
  {
   "cell_type": "code",
   "execution_count": 23,
   "metadata": {
    "scrolled": true
   },
   "outputs": [
    {
     "name": "stdout",
     "output_type": "stream",
     "text": [
      "(72078, 32, 32)\n",
      "(72078, 32, 32)\n",
      "(32, 32)\n",
      "(32, 32, 1)\n"
     ]
    }
   ],
   "source": [
    "### Preprocess the data here. It is required to normalize the data. Other preprocessing steps could include \n",
    "### converting to grayscale, etc.\n",
    "### Feel free to use as many code cells as needed.\n",
    "\n",
    "X_train_norm = np.zeros((len(X_train_gray),32,32))\n",
    "X_valid_norm = np.zeros((len(X_valid_gray),32,32))\n",
    "X_test_norm = np.zeros((len(X_test_gray),32,32))\n",
    "print(X_train_gray.shape)\n",
    "print(X_train_norm.shape)\n",
    "\n",
    "def normalize(img):\n",
    "    normalized = (img/128)-1\n",
    "    return normalized\n",
    "\n",
    "for index in range (0,len(X_train_gray)):\n",
    "    X_train_norm[index] = normalize(X_train_gray[index])\n",
    "\n",
    "for index in range (0,len(X_valid_gray)):\n",
    "    X_valid_norm[index] = normalize(X_valid_gray[index])\n",
    "\n",
    "for index in range (0,len(X_test_gray)):\n",
    "    X_test_norm[index] = normalize(X_test_gray[index])\n",
    "    \n",
    "#Add 1 dimension to fit the model\n",
    "X_train_normexp = np.expand_dims(X_train_norm, axis = 3)\n",
    "X_valid_normexp = np.expand_dims(X_valid_norm, axis = 3)\n",
    "X_test_normexp = np.expand_dims(X_test_norm, axis = 3)\n",
    "\n",
    "print(X_train_norm[124].shape)\n",
    "print(X_train_normexp[124].shape)"
   ]
  },
  {
   "cell_type": "markdown",
   "metadata": {},
   "source": [
    "#### Shuffle Data"
   ]
  },
  {
   "cell_type": "code",
   "execution_count": 24,
   "metadata": {
    "collapsed": true
   },
   "outputs": [],
   "source": [
    "from sklearn.utils import shuffle\n",
    "\n",
    "X_train_normexp, y_train_aug = shuffle(X_train_normexp, y_train_aug)"
   ]
  },
  {
   "cell_type": "markdown",
   "metadata": {},
   "source": [
    "### Model Architecture"
   ]
  },
  {
   "cell_type": "code",
   "execution_count": 25,
   "metadata": {
    "collapsed": true
   },
   "outputs": [],
   "source": [
    "### Define your architecture here.\n",
    "### Feel free to use as many code cells as needed."
   ]
  },
  {
   "cell_type": "code",
   "execution_count": 3,
   "metadata": {
    "collapsed": true
   },
   "outputs": [],
   "source": [
    "import tensorflow as tf\n",
    "\n",
    "EPOCHS = 100\n",
    "BATCH_SIZE = 32"
   ]
  },
  {
   "cell_type": "markdown",
   "metadata": {},
   "source": [
    "#### Old model - LeNet"
   ]
  },
  {
   "cell_type": "code",
   "execution_count": 27,
   "metadata": {
    "collapsed": true
   },
   "outputs": [],
   "source": [
    "from tensorflow.contrib.layers import flatten\n",
    "\n",
    "def LeNet(x):    \n",
    "    # Arguments used for tf.truncated_normal, randomly defines variables for the weights and biases for each layer\n",
    "    mu = 0\n",
    "    sigma = 0.1\n",
    "    \n",
    "    # SOLUTION: Layer 1: Convolutional. Input = 32x32x1. Output = 28x28x6.\n",
    "    conv1_W = tf.Variable(tf.truncated_normal(shape=(5, 5, 1, 6), mean = mu, stddev = sigma))\n",
    "    conv1_b = tf.Variable(tf.zeros(6))\n",
    "    conv1   = tf.nn.conv2d(x, conv1_W, strides=[1, 1, 1, 1], padding='VALID') + conv1_b\n",
    "\n",
    "    # SOLUTION: Activation.\n",
    "    conv1 = tf.nn.relu(conv1)\n",
    "\n",
    "    # SOLUTION: Pooling. Input = 28x28x6. Output = 14x14x6.\n",
    "    conv1 = tf.nn.max_pool(conv1, ksize=[1, 2, 2, 1], strides=[1, 2, 2, 1], padding='VALID')\n",
    "\n",
    "    # SOLUTION: Layer 2: Convolutional. Output = 10x10x16.\n",
    "    conv2_W = tf.Variable(tf.truncated_normal(shape=(5, 5, 6, 16), mean = mu, stddev = sigma))\n",
    "    conv2_b = tf.Variable(tf.zeros(16))\n",
    "    conv2   = tf.nn.conv2d(conv1, conv2_W, strides=[1, 1, 1, 1], padding='VALID') + conv2_b\n",
    "    \n",
    "    # SOLUTION: Activation.\n",
    "    conv2 = tf.nn.relu(conv2)\n",
    "\n",
    "    # SOLUTION: Pooling. Input = 10x10x16. Output = 5x5x16.\n",
    "    conv2 = tf.nn.max_pool(conv2, ksize=[1, 2, 2, 1], strides=[1, 2, 2, 1], padding='VALID')\n",
    "\n",
    "    # SOLUTION: Flatten. Input = 5x5x16. Output = 400.\n",
    "    fc0   = flatten(conv2)\n",
    "    \n",
    "    # SOLUTION: Layer 3: Fully Connected. Input = 400. Output = 150.\n",
    "    fc1_W = tf.Variable(tf.truncated_normal(shape=(400, 150), mean = mu, stddev = sigma))\n",
    "    fc1_b = tf.Variable(tf.zeros(150))\n",
    "    fc1   = tf.matmul(fc0, fc1_W) + fc1_b\n",
    "    \n",
    "    # SOLUTION: Activation.\n",
    "    fc1    = tf.nn.relu(fc1)\n",
    "\n",
    "    # SOLUTION: Layer 4: Fully Connected. Input = 150. Output = 100.\n",
    "    fc2_W  = tf.Variable(tf.truncated_normal(shape=(150, 100), mean = mu, stddev = sigma))\n",
    "    fc2_b  = tf.Variable(tf.zeros(100))\n",
    "    fc2    = tf.matmul(fc1, fc2_W) + fc2_b\n",
    "    \n",
    "    # SOLUTION: Activation.\n",
    "    fc2    = tf.nn.relu(fc2)\n",
    "\n",
    "    # SOLUTION: Layer 5: Fully Connected. Input = 100. Output = 43.\n",
    "    fc3_W  = tf.Variable(tf.truncated_normal(shape=(100, 43), mean = mu, stddev = sigma))\n",
    "    fc3_b  = tf.Variable(tf.zeros(43))\n",
    "    logits = tf.matmul(fc2, fc3_W) + fc3_b\n",
    "    \n",
    "    return logits"
   ]
  },
  {
   "cell_type": "markdown",
   "metadata": {},
   "source": [
    "#### New Model - LeNet modified"
   ]
  },
  {
   "cell_type": "code",
   "execution_count": 4,
   "metadata": {
    "collapsed": true
   },
   "outputs": [],
   "source": [
    "from tensorflow.contrib.layers import flatten\n",
    "\n",
    "def LeNet2(x, keep_prob):\n",
    "    mu = 0\n",
    "    sigma = 0.1\n",
    "    \n",
    "    # TODO: Layer 1: Convolutional. Input = 32x32x1. Output = 28x28x6.\n",
    "    W1 = tf.Variable(tf.truncated_normal(shape=(5, 5, 1, 6), mean = mu, stddev = sigma))\n",
    "    x = tf.nn.conv2d(x, W1, strides=[1, 1, 1, 1], padding='VALID')\n",
    "    b1 = tf.Variable(tf.zeros(6))\n",
    "    x = tf.nn.bias_add(x, b1)\n",
    "\n",
    "    # TODO: Activation.\n",
    "    x = tf.nn.relu(x)\n",
    "    \n",
    "    # TODO: Pooling. Input = 28x28x6. Output = 14x14x6.\n",
    "    x = tf.nn.max_pool(x, ksize=[1, 2, 2, 1], strides=[1, 2, 2, 1], padding='VALID')\n",
    "    layer1 = x\n",
    "    \n",
    "    # TODO: Layer 2: Convolutional. Output = 10x10x16.\n",
    "    W2 = tf.Variable(tf.truncated_normal(shape=(5, 5, 6, 16), mean = mu, stddev = sigma))\n",
    "    x = tf.nn.conv2d(x, W2, strides=[1, 1, 1, 1], padding='VALID')\n",
    "    b2 = tf.Variable(tf.zeros(16))\n",
    "    x = tf.nn.bias_add(x, b2)\n",
    "                     \n",
    "    # TODO: Activation.\n",
    "    x = tf.nn.relu(x)\n",
    "\n",
    "    # TODO: Pooling. Input = 10x10x16. Output = 5x5x16.\n",
    "    x = tf.nn.max_pool(x, ksize=[1, 2, 2, 1], strides=[1, 2, 2, 1], padding='VALID')\n",
    "    layer2 = x\n",
    "    \n",
    "    # TODO: Layer 3: Convolutional. Output = 1x1x400.\n",
    "    W3 = tf.Variable(tf.truncated_normal(shape=(5, 5, 16, 400), mean = mu, stddev = sigma))\n",
    "    x = tf.nn.conv2d(x, W3, strides=[1, 1, 1, 1], padding='VALID')\n",
    "    b3 = tf.Variable(tf.zeros(400))\n",
    "    x = tf.nn.bias_add(x, b3)\n",
    "                     \n",
    "    # TODO: Activation.\n",
    "    x = tf.nn.relu(x)\n",
    "    layer3 = x\n",
    "\n",
    "    # TODO: Flatten. Input = 5x5x16. Output = 400.\n",
    "    layer2flat = flatten(layer2)\n",
    "    \n",
    "    # Flatten x. Input = 1x1x400. Output = 400.\n",
    "    xflat = flatten(x)\n",
    "    \n",
    "    # Concatenate layer2flat and x. Input = 400 + 400. Output = 800\n",
    "    x = tf.concat_v2([xflat, layer2flat], 1)\n",
    "    \n",
    "    # Dropout\n",
    "    x = tf.nn.dropout(x, keep_prob)\n",
    "    \n",
    "    # TODO: Layer 4: Fully Connected. Input = 800. Output = 43.\n",
    "    W4 = tf.Variable(tf.truncated_normal(shape=(800, 43), mean = mu, stddev = sigma))\n",
    "    b4 = tf.Variable(tf.zeros(43))    \n",
    "    logits = tf.add(tf.matmul(x, W4), b4)\n",
    "\n",
    "    return logits"
   ]
  },
  {
   "cell_type": "code",
   "execution_count": 5,
   "metadata": {
    "collapsed": true
   },
   "outputs": [],
   "source": [
    "x = tf.placeholder(tf.float32, (None, 32, 32, 1))\n",
    "keep_prob = tf.placeholder(tf.float32)\n",
    "y = tf.placeholder(tf.int32, (None))\n",
    "one_hot_y = tf.one_hot(y, 43)"
   ]
  },
  {
   "cell_type": "code",
   "execution_count": 6,
   "metadata": {
    "collapsed": true
   },
   "outputs": [],
   "source": [
    "rate = 0.001\n",
    "\n",
    "logits = LeNet2(x,keep_prob)\n",
    "cross_entropy = tf.nn.softmax_cross_entropy_with_logits(labels=one_hot_y, logits=logits)\n",
    "loss_operation = tf.reduce_mean(cross_entropy)\n",
    "optimizer = tf.train.AdamOptimizer(learning_rate = rate)\n",
    "training_operation = optimizer.minimize(loss_operation)"
   ]
  },
  {
   "cell_type": "markdown",
   "metadata": {},
   "source": [
    "### Model Evaluation"
   ]
  },
  {
   "cell_type": "code",
   "execution_count": 7,
   "metadata": {
    "collapsed": true
   },
   "outputs": [],
   "source": [
    "correct_prediction = tf.equal(tf.argmax(logits, 1), tf.argmax(one_hot_y, 1))\n",
    "accuracy_operation = tf.reduce_mean(tf.cast(correct_prediction, tf.float32))\n",
    "saver = tf.train.Saver()\n",
    "\n",
    "def evaluate(X_data, y_data):\n",
    "    num_examples = len(X_data)\n",
    "    total_accuracy = 0\n",
    "    sess = tf.get_default_session()\n",
    "    for offset in range(0, num_examples, BATCH_SIZE):\n",
    "        batch_x, batch_y = X_data[offset:offset+BATCH_SIZE], y_data[offset:offset+BATCH_SIZE]\n",
    "        accuracy = sess.run(accuracy_operation, feed_dict={x: batch_x, y: batch_y, keep_prob: 1.0})\n",
    "        total_accuracy += (accuracy * len(batch_x))\n",
    "    return total_accuracy / num_examples"
   ]
  },
  {
   "cell_type": "markdown",
   "metadata": {},
   "source": [
    "### Train the model"
   ]
  },
  {
   "cell_type": "markdown",
   "metadata": {},
   "source": [
    "A validation set can be used to assess how well the model is performing. A low accuracy on the training and validation\n",
    "sets imply underfitting. A high accuracy on the training set but low accuracy on the validation set implies overfitting."
   ]
  },
  {
   "cell_type": "code",
   "execution_count": 32,
   "metadata": {
    "collapsed": true
   },
   "outputs": [],
   "source": [
    "### Train your model here.\n",
    "### Calculate and report the accuracy on the training and validation set.\n",
    "### Once a final model architecture is selected, \n",
    "### the accuracy on the test set should be calculated and reported as well.\n",
    "### Feel free to use as many code cells as needed."
   ]
  },
  {
   "cell_type": "code",
   "execution_count": 35,
   "metadata": {
    "scrolled": false
   },
   "outputs": [
    {
     "name": "stdout",
     "output_type": "stream",
     "text": [
      "Training...\n",
      "\n",
      "EPOCH 1 ...\n",
      "Training Accuracy = 0.940\n",
      "Validation Accuracy = 0.887\n",
      "\n",
      "EPOCH 2 ...\n",
      "Training Accuracy = 0.975\n",
      "Validation Accuracy = 0.925\n",
      "\n",
      "EPOCH 3 ...\n",
      "Training Accuracy = 0.987\n",
      "Validation Accuracy = 0.945\n",
      "\n",
      "EPOCH 4 ...\n",
      "Training Accuracy = 0.991\n",
      "Validation Accuracy = 0.938\n",
      "\n",
      "EPOCH 5 ...\n",
      "Training Accuracy = 0.993\n",
      "Validation Accuracy = 0.938\n",
      "\n",
      "EPOCH 6 ...\n",
      "Training Accuracy = 0.991\n",
      "Validation Accuracy = 0.937\n",
      "\n",
      "EPOCH 7 ...\n",
      "Training Accuracy = 0.996\n",
      "Validation Accuracy = 0.941\n",
      "\n",
      "EPOCH 8 ...\n",
      "Training Accuracy = 0.997\n",
      "Validation Accuracy = 0.946\n",
      "\n",
      "EPOCH 9 ...\n",
      "Training Accuracy = 0.998\n",
      "Validation Accuracy = 0.949\n",
      "\n",
      "EPOCH 10 ...\n",
      "Training Accuracy = 0.998\n",
      "Validation Accuracy = 0.950\n",
      "\n",
      "EPOCH 11 ...\n",
      "Training Accuracy = 0.996\n",
      "Validation Accuracy = 0.947\n",
      "\n",
      "EPOCH 12 ...\n",
      "Training Accuracy = 0.998\n",
      "Validation Accuracy = 0.944\n",
      "\n",
      "EPOCH 13 ...\n",
      "Training Accuracy = 0.999\n",
      "Validation Accuracy = 0.949\n",
      "\n",
      "EPOCH 14 ...\n",
      "Training Accuracy = 0.998\n",
      "Validation Accuracy = 0.957\n",
      "\n",
      "EPOCH 15 ...\n",
      "Training Accuracy = 0.998\n",
      "Validation Accuracy = 0.941\n",
      "\n",
      "EPOCH 16 ...\n",
      "Training Accuracy = 0.999\n",
      "Validation Accuracy = 0.953\n",
      "\n",
      "EPOCH 17 ...\n",
      "Training Accuracy = 0.999\n",
      "Validation Accuracy = 0.953\n",
      "\n",
      "EPOCH 18 ...\n",
      "Training Accuracy = 0.999\n",
      "Validation Accuracy = 0.955\n",
      "\n",
      "EPOCH 19 ...\n",
      "Training Accuracy = 0.998\n",
      "Validation Accuracy = 0.953\n",
      "\n",
      "EPOCH 20 ...\n",
      "Training Accuracy = 0.999\n",
      "Validation Accuracy = 0.952\n",
      "\n",
      "EPOCH 21 ...\n",
      "Training Accuracy = 0.998\n",
      "Validation Accuracy = 0.955\n",
      "\n",
      "EPOCH 22 ...\n",
      "Training Accuracy = 0.999\n",
      "Validation Accuracy = 0.963\n",
      "\n",
      "EPOCH 23 ...\n",
      "Training Accuracy = 1.000\n",
      "Validation Accuracy = 0.957\n",
      "\n",
      "EPOCH 24 ...\n",
      "Training Accuracy = 1.000\n",
      "Validation Accuracy = 0.966\n",
      "\n",
      "EPOCH 25 ...\n",
      "Training Accuracy = 1.000\n",
      "Validation Accuracy = 0.961\n",
      "\n",
      "EPOCH 26 ...\n",
      "Training Accuracy = 0.999\n",
      "Validation Accuracy = 0.964\n",
      "\n",
      "EPOCH 27 ...\n",
      "Training Accuracy = 0.999\n",
      "Validation Accuracy = 0.956\n",
      "\n",
      "EPOCH 28 ...\n",
      "Training Accuracy = 0.999\n",
      "Validation Accuracy = 0.959\n",
      "\n",
      "EPOCH 29 ...\n",
      "Training Accuracy = 1.000\n",
      "Validation Accuracy = 0.952\n",
      "\n",
      "EPOCH 30 ...\n",
      "Training Accuracy = 1.000\n",
      "Validation Accuracy = 0.957\n",
      "\n",
      "EPOCH 31 ...\n",
      "Training Accuracy = 1.000\n",
      "Validation Accuracy = 0.951\n",
      "\n",
      "EPOCH 32 ...\n",
      "Training Accuracy = 0.999\n",
      "Validation Accuracy = 0.949\n",
      "\n",
      "EPOCH 33 ...\n",
      "Training Accuracy = 1.000\n",
      "Validation Accuracy = 0.961\n",
      "\n",
      "EPOCH 34 ...\n",
      "Training Accuracy = 1.000\n",
      "Validation Accuracy = 0.956\n",
      "\n",
      "EPOCH 35 ...\n",
      "Training Accuracy = 0.999\n",
      "Validation Accuracy = 0.958\n",
      "\n",
      "EPOCH 36 ...\n",
      "Training Accuracy = 1.000\n",
      "Validation Accuracy = 0.962\n",
      "\n",
      "EPOCH 37 ...\n",
      "Training Accuracy = 1.000\n",
      "Validation Accuracy = 0.951\n",
      "\n",
      "EPOCH 38 ...\n",
      "Training Accuracy = 1.000\n",
      "Validation Accuracy = 0.957\n",
      "\n",
      "EPOCH 39 ...\n",
      "Training Accuracy = 0.999\n",
      "Validation Accuracy = 0.948\n",
      "\n",
      "EPOCH 40 ...\n",
      "Training Accuracy = 0.999\n",
      "Validation Accuracy = 0.959\n",
      "\n",
      "EPOCH 41 ...\n",
      "Training Accuracy = 1.000\n",
      "Validation Accuracy = 0.959\n",
      "\n",
      "EPOCH 42 ...\n",
      "Training Accuracy = 1.000\n",
      "Validation Accuracy = 0.955\n",
      "\n",
      "EPOCH 43 ...\n",
      "Training Accuracy = 1.000\n",
      "Validation Accuracy = 0.958\n",
      "\n",
      "EPOCH 44 ...\n",
      "Training Accuracy = 1.000\n",
      "Validation Accuracy = 0.962\n",
      "\n",
      "EPOCH 45 ...\n",
      "Training Accuracy = 1.000\n",
      "Validation Accuracy = 0.961\n",
      "\n",
      "EPOCH 46 ...\n",
      "Training Accuracy = 0.999\n",
      "Validation Accuracy = 0.951\n",
      "\n",
      "EPOCH 47 ...\n",
      "Training Accuracy = 0.999\n",
      "Validation Accuracy = 0.948\n",
      "\n",
      "EPOCH 48 ...\n",
      "Training Accuracy = 1.000\n",
      "Validation Accuracy = 0.952\n",
      "\n",
      "EPOCH 49 ...\n",
      "Training Accuracy = 1.000\n",
      "Validation Accuracy = 0.960\n",
      "\n",
      "EPOCH 50 ...\n",
      "Training Accuracy = 1.000\n",
      "Validation Accuracy = 0.963\n",
      "\n",
      "EPOCH 51 ...\n",
      "Training Accuracy = 0.999\n",
      "Validation Accuracy = 0.950\n",
      "\n",
      "EPOCH 52 ...\n",
      "Training Accuracy = 0.999\n",
      "Validation Accuracy = 0.954\n",
      "\n",
      "EPOCH 53 ...\n",
      "Training Accuracy = 1.000\n",
      "Validation Accuracy = 0.963\n",
      "\n",
      "EPOCH 54 ...\n",
      "Training Accuracy = 1.000\n",
      "Validation Accuracy = 0.956\n",
      "\n",
      "EPOCH 55 ...\n",
      "Training Accuracy = 1.000\n",
      "Validation Accuracy = 0.950\n",
      "\n",
      "EPOCH 56 ...\n",
      "Training Accuracy = 1.000\n",
      "Validation Accuracy = 0.959\n",
      "\n",
      "EPOCH 57 ...\n",
      "Training Accuracy = 1.000\n",
      "Validation Accuracy = 0.962\n",
      "\n",
      "EPOCH 58 ...\n",
      "Training Accuracy = 0.998\n",
      "Validation Accuracy = 0.946\n",
      "\n",
      "EPOCH 59 ...\n",
      "Training Accuracy = 0.994\n",
      "Validation Accuracy = 0.925\n",
      "\n",
      "EPOCH 60 ...\n",
      "Training Accuracy = 1.000\n",
      "Validation Accuracy = 0.959\n",
      "\n",
      "EPOCH 61 ...\n",
      "Training Accuracy = 1.000\n",
      "Validation Accuracy = 0.963\n",
      "\n",
      "EPOCH 62 ...\n",
      "Training Accuracy = 1.000\n",
      "Validation Accuracy = 0.958\n",
      "\n",
      "EPOCH 63 ...\n",
      "Training Accuracy = 0.999\n",
      "Validation Accuracy = 0.949\n",
      "\n",
      "EPOCH 64 ...\n",
      "Training Accuracy = 1.000\n",
      "Validation Accuracy = 0.952\n",
      "\n",
      "EPOCH 65 ...\n",
      "Training Accuracy = 1.000\n",
      "Validation Accuracy = 0.960\n",
      "\n",
      "EPOCH 66 ...\n",
      "Training Accuracy = 1.000\n",
      "Validation Accuracy = 0.961\n",
      "\n",
      "EPOCH 67 ...\n",
      "Training Accuracy = 1.000\n",
      "Validation Accuracy = 0.955\n",
      "\n",
      "EPOCH 68 ...\n",
      "Training Accuracy = 0.999\n",
      "Validation Accuracy = 0.951\n",
      "\n",
      "EPOCH 69 ...\n",
      "Training Accuracy = 1.000\n",
      "Validation Accuracy = 0.959\n",
      "\n",
      "EPOCH 70 ...\n",
      "Training Accuracy = 1.000\n",
      "Validation Accuracy = 0.958\n",
      "\n",
      "EPOCH 71 ...\n",
      "Training Accuracy = 0.999\n",
      "Validation Accuracy = 0.957\n",
      "\n",
      "EPOCH 72 ...\n",
      "Training Accuracy = 1.000\n",
      "Validation Accuracy = 0.962\n",
      "\n",
      "EPOCH 73 ...\n",
      "Training Accuracy = 1.000\n",
      "Validation Accuracy = 0.954\n",
      "\n",
      "EPOCH 74 ...\n",
      "Training Accuracy = 1.000\n",
      "Validation Accuracy = 0.957\n",
      "\n",
      "EPOCH 75 ...\n",
      "Training Accuracy = 1.000\n",
      "Validation Accuracy = 0.960\n",
      "\n",
      "EPOCH 76 ...\n",
      "Training Accuracy = 1.000\n",
      "Validation Accuracy = 0.961\n",
      "\n",
      "EPOCH 77 ...\n",
      "Training Accuracy = 0.999\n",
      "Validation Accuracy = 0.957\n",
      "\n",
      "EPOCH 78 ...\n",
      "Training Accuracy = 1.000\n",
      "Validation Accuracy = 0.961\n",
      "\n",
      "EPOCH 79 ...\n",
      "Training Accuracy = 1.000\n",
      "Validation Accuracy = 0.959\n",
      "\n",
      "EPOCH 80 ...\n",
      "Training Accuracy = 1.000\n",
      "Validation Accuracy = 0.957\n",
      "\n",
      "EPOCH 81 ...\n",
      "Training Accuracy = 1.000\n",
      "Validation Accuracy = 0.953\n",
      "\n",
      "EPOCH 82 ...\n",
      "Training Accuracy = 0.999\n",
      "Validation Accuracy = 0.960\n",
      "\n",
      "EPOCH 83 ...\n",
      "Training Accuracy = 1.000\n",
      "Validation Accuracy = 0.961\n",
      "\n",
      "EPOCH 84 ...\n",
      "Training Accuracy = 1.000\n",
      "Validation Accuracy = 0.963\n",
      "\n",
      "EPOCH 85 ...\n",
      "Training Accuracy = 1.000\n",
      "Validation Accuracy = 0.964\n",
      "\n",
      "EPOCH 86 ...\n",
      "Training Accuracy = 1.000\n",
      "Validation Accuracy = 0.966\n",
      "\n",
      "EPOCH 87 ...\n",
      "Training Accuracy = 0.998\n",
      "Validation Accuracy = 0.947\n",
      "\n",
      "EPOCH 88 ...\n",
      "Training Accuracy = 1.000\n",
      "Validation Accuracy = 0.964\n",
      "\n",
      "EPOCH 89 ...\n",
      "Training Accuracy = 1.000\n",
      "Validation Accuracy = 0.964\n",
      "\n",
      "EPOCH 90 ...\n",
      "Training Accuracy = 1.000\n",
      "Validation Accuracy = 0.960\n",
      "\n",
      "EPOCH 91 ...\n",
      "Training Accuracy = 1.000\n",
      "Validation Accuracy = 0.961\n",
      "\n",
      "EPOCH 92 ...\n",
      "Training Accuracy = 0.999\n",
      "Validation Accuracy = 0.961\n",
      "\n",
      "EPOCH 93 ...\n",
      "Training Accuracy = 1.000\n",
      "Validation Accuracy = 0.958\n",
      "\n",
      "EPOCH 94 ...\n",
      "Training Accuracy = 1.000\n",
      "Validation Accuracy = 0.962\n",
      "\n",
      "EPOCH 95 ...\n",
      "Training Accuracy = 1.000\n",
      "Validation Accuracy = 0.958\n",
      "\n",
      "EPOCH 96 ...\n",
      "Training Accuracy = 0.999\n",
      "Validation Accuracy = 0.952\n",
      "\n",
      "EPOCH 97 ...\n",
      "Training Accuracy = 1.000\n",
      "Validation Accuracy = 0.955\n",
      "\n",
      "EPOCH 98 ...\n",
      "Training Accuracy = 1.000\n",
      "Validation Accuracy = 0.954\n",
      "\n",
      "EPOCH 99 ...\n",
      "Training Accuracy = 1.000\n",
      "Validation Accuracy = 0.959\n",
      "\n",
      "EPOCH 100 ...\n",
      "Training Accuracy = 0.999\n",
      "Validation Accuracy = 0.950\n",
      "\n",
      "Model saved\n"
     ]
    }
   ],
   "source": [
    "with tf.Session() as sess:\n",
    "    sess.run(tf.global_variables_initializer())\n",
    "    num_examples = len(X_train_normexp)\n",
    "    \n",
    "    print(\"Training...\")\n",
    "    print()\n",
    "    for i in range(EPOCHS):\n",
    "        X_train_normexp, y_train_aug = shuffle(X_train_normexp, y_train_aug)\n",
    "        for offset in range(0, num_examples, BATCH_SIZE):\n",
    "            end = offset + BATCH_SIZE\n",
    "            batch_x, batch_y = X_train_normexp[offset:end], y_train_aug[offset:end]\n",
    "            sess.run(training_operation, feed_dict={x: batch_x, y: batch_y, keep_prob: 0.5})\n",
    "        \n",
    "        train_accuracy = evaluate(X_train_normexp,y_train_aug)    \n",
    "        validation_accuracy = evaluate(X_valid_normexp, y_valid)\n",
    "        print(\"EPOCH {} ...\".format(i+1))\n",
    "        print(\"Training Accuracy = {:.3f}\".format(train_accuracy))\n",
    "        print(\"Validation Accuracy = {:.3f}\".format(validation_accuracy))    \n",
    "        print()\n",
    "        \n",
    "    saver.save(sess, './lasttrafficsignclassifiersaved')\n",
    "    print(\"Model saved\")"
   ]
  },
  {
   "cell_type": "markdown",
   "metadata": {},
   "source": [
    "### Evaluate the model"
   ]
  },
  {
   "cell_type": "code",
   "execution_count": 36,
   "metadata": {},
   "outputs": [
    {
     "name": "stdout",
     "output_type": "stream",
     "text": [
      "Test Accuracy = 0.938\n"
     ]
    }
   ],
   "source": [
    "with tf.Session() as sess:\n",
    "    saver.restore(sess, tf.train.latest_checkpoint('.'))\n",
    "\n",
    "    test_accuracy = evaluate(X_test_normexp, y_test)\n",
    "    print(\"Test Accuracy = {:.3f}\".format(test_accuracy))"
   ]
  },
  {
   "cell_type": "markdown",
   "metadata": {},
   "source": [
    "---\n",
    "\n",
    "## Step 3: Test a Model on New Images\n",
    "\n",
    "To give yourself more insight into how your model is working, download at least five pictures of German traffic signs from the web and use your model to predict the traffic sign type.\n",
    "\n",
    "You may find `signnames.csv` useful as it contains mappings from the class id (integer) to the actual sign name."
   ]
  },
  {
   "cell_type": "markdown",
   "metadata": {},
   "source": [
    "### Load and Output the Images"
   ]
  },
  {
   "cell_type": "code",
   "execution_count": 1,
   "metadata": {},
   "outputs": [
    {
     "data": {
      "image/png": "[encoded data removed]",
      "text/plain": [
       "<matplotlib.figure.Figure at 0x7f558c63d400>"
      ]
     },
     "metadata": {},
     "output_type": "display_data"
    },
    {
     "data": {
      "image/png": "[encoded data removed]",
      "text/plain": [
       "<matplotlib.figure.Figure at 0x7f5595715eb8>"
      ]
     },
     "metadata": {},
     "output_type": "display_data"
    },
    {
     "data": {
      "image/png": "[encoded data removed]",
      "text/plain": [
       "<matplotlib.figure.Figure at 0x7f555715e908>"
      ]
     },
     "metadata": {},
     "output_type": "display_data"
    },
    {
     "data": {
      "image/png": "[encoded data removed]",
      "text/plain": [
       "<matplotlib.figure.Figure at 0x7f55570d9ef0>"
      ]
     },
     "metadata": {},
     "output_type": "display_data"
    },
    {
     "data": {
      "image/png": "[encoded data removed]",
      "text/plain": [
       "<matplotlib.figure.Figure at 0x7f55570badd8>"
      ]
     },
     "metadata": {},
     "output_type": "display_data"
    },
    {
     "name": "stdout",
     "output_type": "stream",
     "text": [
      "<PIL.JpegImagePlugin.JpegImageFile image mode=RGB size=32x32 at 0x7F555929E668>\n",
      "(32, 32, 4)\n",
      "(32, 32, 3)\n",
      "(32, 32, 4)\n",
      "(32, 32, 3)\n",
      "(32, 32, 4)\n",
      "(32, 32, 3)\n",
      "(32, 32, 4)\n",
      "(32, 32, 3)\n",
      "(32, 32, 3)\n",
      "(5, 32, 32, 3)\n",
      "uint8\n"
     ]
    },
    {
     "data": {
      "text/plain": [
       "<function matplotlib.pyplot.show>"
      ]
     },
     "execution_count": 1,
     "metadata": {},
     "output_type": "execute_result"
    },
    {
     "data": {
      "image/png": "[encoded data removed]",
      "text/plain": [
       "<matplotlib.figure.Figure at 0x7f55570930f0>"
      ]
     },
     "metadata": {},
     "output_type": "display_data"
    }
   ],
   "source": [
    "from PIL import Image\n",
    "import matplotlib.pyplot as plt\n",
    "%matplotlib inline\n",
    "import os\n",
    "import numpy as np\n",
    "#os.chdir(path)\n",
    "\n",
    "img1 = Image.open('MyTrafficSigns/Image01.png')\n",
    "img2 = Image.open('MyTrafficSigns/Image02.png')\n",
    "img3 = Image.open('MyTrafficSigns/Image03.png')\n",
    "img4 = Image.open('MyTrafficSigns/Image04.png')\n",
    "img5 = Image.open('MyTrafficSigns/Image05.png')\n",
    "plt.imshow(img1)\n",
    "plt.show()\n",
    "plt.imshow(img2)\n",
    "plt.show()\n",
    "plt.imshow(img3)\n",
    "plt.show()\n",
    "plt.imshow(img4)\n",
    "plt.show()\n",
    "plt.imshow(img5)\n",
    "plt.show()\n",
    "print(img5)\n",
    "\n",
    "img01=np.array((img1))\n",
    "print(img01.shape)\n",
    "sign1=np.delete(img01,(3),axis=2)\n",
    "print(sign1.shape)\n",
    "\n",
    "img02=np.array((img2))\n",
    "print(img02.shape)\n",
    "sign2=np.delete(img02,(3),axis=2)\n",
    "print(sign2.shape)\n",
    "\n",
    "img03=np.array((img3))\n",
    "print(img03.shape)\n",
    "sign3=np.delete(img03,(3),axis=2)\n",
    "print(sign3.shape)\n",
    "\n",
    "img04=np.array((img4))\n",
    "print(img04.shape)\n",
    "sign4=np.delete(img04,(3),axis=2)\n",
    "print(sign4.shape)\n",
    "\n",
    "sign5=np.array((img5))\n",
    "print(sign5.shape)\n",
    "\n",
    "mysigns=np.uint8(np.zeros((5,32,32,3)))\n",
    "mysigns[0]=sign1\n",
    "mysigns[1]=sign2\n",
    "mysigns[2]=sign3\n",
    "mysigns[3]=sign4\n",
    "mysigns[4]=sign5\n",
    "print(mysigns.shape)\n",
    "print(mysigns.dtype)\n",
    "plt.imshow(mysigns[0])\n",
    "plt.show"
   ]
  },
  {
   "cell_type": "code",
   "execution_count": 28,
   "metadata": {},
   "outputs": [
    {
     "data": {
      "text/plain": [
       "<function matplotlib.pyplot.show>"
      ]
     },
     "execution_count": 28,
     "metadata": {},
     "output_type": "execute_result"
    },
    {
     "data": {
      "image/png": "[encoded data removed]",
      "text/plain": [
       "<matplotlib.figure.Figure at 0x7fc8efdc5d30>"
      ]
     },
     "metadata": {},
     "output_type": "display_data"
    }
   ],
   "source": [
    "plt.imshow(mysigns[1])\n",
    "plt.show"
   ]
  },
  {
   "cell_type": "markdown",
   "metadata": {},
   "source": [
    "### Grayscale and Normalize my images"
   ]
  },
  {
   "cell_type": "code",
   "execution_count": 2,
   "metadata": {},
   "outputs": [
    {
     "name": "stdout",
     "output_type": "stream",
     "text": [
      "(5, 32, 32, 1)\n",
      "float64\n"
     ]
    }
   ],
   "source": [
    "mysigns_gray = np.zeros((len(mysigns),32,32))\n",
    "\n",
    "def rgb2gray(rgb):\n",
    "    return np.dot(rgb[...,:3], [0.299, 0.587, 0.114])\n",
    "\n",
    "for index in range (0,(len(mysigns))):\n",
    "    mysigns_gray[index] = rgb2gray(mysigns[index])\n",
    "    \n",
    "    \n",
    "mysigns_norm = np.zeros((len(mysigns_gray),32,32))\n",
    "\n",
    "def normalize(img):\n",
    "    normalized = (img/128)-1\n",
    "    return normalized\n",
    "\n",
    "for index in range (0,len(mysigns_gray)):\n",
    "    mysigns_norm[index] = normalize(mysigns_gray[index])\n",
    "    \n",
    "    \n",
    "    \n",
    "mysigns_normexp = (np.expand_dims(mysigns_norm, axis = 3))\n",
    "\n",
    "print(mysigns_normexp.shape)\n",
    "print(mysigns_normexp.dtype)"
   ]
  },
  {
   "cell_type": "markdown",
   "metadata": {},
   "source": [
    "### Predict the Sign Type for Each Image"
   ]
  },
  {
   "cell_type": "code",
   "execution_count": 30,
   "metadata": {
    "collapsed": true
   },
   "outputs": [],
   "source": [
    "### Run the predictions here and use the model to output the prediction for each image.\n",
    "### Make sure to pre-process the images with the same pre-processing pipeline used earlier.\n",
    "### Feel free to use as many code cells as needed."
   ]
  },
  {
   "cell_type": "code",
   "execution_count": 9,
   "metadata": {},
   "outputs": [
    {
     "name": "stdout",
     "output_type": "stream",
     "text": [
      "(5,)\n",
      "uint8\n",
      "Test Set Accuracy = 0.600\n"
     ]
    }
   ],
   "source": [
    "import tensorflow as tf\n",
    "\n",
    "mylabels = np.uint8((38, 2, 2, 13 ,31))\n",
    "print(mylabels.shape)\n",
    "print(mylabels.dtype)\n",
    "\n",
    "with tf.Session() as sess:\n",
    "    sess.run(tf.global_variables_initializer())\n",
    "    saver3 = tf.train.import_meta_graph('./trafficsignclassifiersaved.meta')\n",
    "    saver3.restore(sess, \"./trafficsignclassifiersaved\")\n",
    "    myaccuracy= evaluate(mysigns_normexp, mylabels)\n",
    "    print(\"Test Set Accuracy = {:.3f}\".format(myaccuracy))"
   ]
  },
  {
   "cell_type": "code",
   "execution_count": null,
   "metadata": {
    "collapsed": true
   },
   "outputs": [],
   "source": []
  },
  {
   "cell_type": "markdown",
   "metadata": {},
   "source": [
    "### Analyze Performance"
   ]
  },
  {
   "cell_type": "code",
   "execution_count": 4,
   "metadata": {
    "collapsed": true
   },
   "outputs": [],
   "source": [
    "### Calculate the accuracy for these 5 new images. \n",
    "### For example, if the model predicted 1 out of 5 signs correctly, it's 20% accurate on these new images."
   ]
  },
  {
   "cell_type": "code",
   "execution_count": 10,
   "metadata": {
    "collapsed": true,
    "scrolled": false
   },
   "outputs": [],
   "source": [
    "softmax_logits = tf.nn.softmax(logits)\n",
    "top_k = tf.nn.top_k(softmax_logits, k=5)\n",
    "\n",
    "with tf.Session() as sess:\n",
    "    sess.run(tf.global_variables_initializer())\n",
    "    saver3 = tf.train.import_meta_graph('./trafficsignclassifiersaved.meta')\n",
    "    saver3.restore(sess, \"./trafficsignclassifiersaved\")\n",
    "    my_softmax_logits = sess.run(softmax_logits, feed_dict={x: mysigns_normexp, keep_prob: 1.0})\n",
    "    my_top_k = sess.run(top_k, feed_dict={x: mysigns_normexp, keep_prob: 1.0})"
   ]
  },
  {
   "cell_type": "code",
   "execution_count": 11,
   "metadata": {},
   "outputs": [
    {
     "name": "stdout",
     "output_type": "stream",
     "text": [
      "[[  1.00000000e+00   0.00000000e+00   0.00000000e+00   0.00000000e+00\n",
      "    0.00000000e+00]\n",
      " [  9.96179581e-01   3.78374197e-03   3.53277828e-05   8.19087120e-07\n",
      "    5.69540077e-07]\n",
      " [  1.00000000e+00   2.17445972e-09   1.32508324e-22   2.22942189e-23\n",
      "    1.76571453e-27]\n",
      " [  1.00000000e+00   2.49414172e-29   0.00000000e+00   0.00000000e+00\n",
      "    0.00000000e+00]\n",
      " [  1.00000000e+00   9.70950076e-09   7.52558710e-11   1.42445988e-14\n",
      "    8.99289436e-21]]\n"
     ]
    }
   ],
   "source": [
    "print(my_top_k[0])"
   ]
  },
  {
   "cell_type": "code",
   "execution_count": 12,
   "metadata": {
    "scrolled": true
   },
   "outputs": [
    {
     "name": "stdout",
     "output_type": "stream",
     "text": [
      "[[38  0  1  2  3]\n",
      " [ 1 21 24 30  2]\n",
      " [ 0  1  4  2 38]\n",
      " [13 18  0  1  2]\n",
      " [31 23 29 21 19]]\n"
     ]
    }
   ],
   "source": [
    "print(my_top_k[1])"
   ]
  },
  {
   "cell_type": "markdown",
   "metadata": {},
   "source": [
    "### Output Top 5 Softmax Probabilities For Each Image Found on the Web"
   ]
  },
  {
   "cell_type": "markdown",
   "metadata": {},
   "source": [
    "For each of the new images, print out the model's softmax probabilities to show the **certainty** of the model's predictions (limit the output to the top 5 probabilities for each image). [`tf.nn.top_k`](https://www.tensorflow.org/versions/r0.12/api_docs/python/nn.html#top_k) could prove helpful here. \n",
    "\n",
    "The example below demonstrates how tf.nn.top_k can be used to find the top k predictions for each image.\n",
    "\n",
    "`tf.nn.top_k` will return the values and indices (class ids) of the top k predictions. So if k=3, for each sign, it'll return the 3 largest probabilities (out of a possible 43) and the correspoding class ids.\n",
    "\n",
    "Take this numpy array as an example. The values in the array represent predictions. The array contains softmax probabilities for five candidate images with six possible classes. `tf.nn.top_k` is used to choose the three classes with the highest probability:\n",
    "\n",
    "```\n",
    "# (5, 6) array\n",
    "a = np.array([[ 0.24879643,  0.07032244,  0.12641572,  0.34763842,  0.07893497,\n",
    "         0.12789202],\n",
    "       [ 0.28086119,  0.27569815,  0.08594638,  0.0178669 ,  0.18063401,\n",
    "         0.15899337],\n",
    "       [ 0.26076848,  0.23664738,  0.08020603,  0.07001922,  0.1134371 ,\n",
    "         0.23892179],\n",
    "       [ 0.11943333,  0.29198961,  0.02605103,  0.26234032,  0.1351348 ,\n",
    "         0.16505091],\n",
    "       [ 0.09561176,  0.34396535,  0.0643941 ,  0.16240774,  0.24206137,\n",
    "         0.09155967]])\n",
    "```\n",
    "\n",
    "Running it through `sess.run(tf.nn.top_k(tf.constant(a), k=3))` produces:\n",
    "\n",
    "```\n",
    "TopKV2(values=array([[ 0.34763842,  0.24879643,  0.12789202],\n",
    "       [ 0.28086119,  0.27569815,  0.18063401],\n",
    "       [ 0.26076848,  0.23892179,  0.23664738],\n",
    "       [ 0.29198961,  0.26234032,  0.16505091],\n",
    "       [ 0.34396535,  0.24206137,  0.16240774]]), indices=array([[3, 0, 5],\n",
    "       [0, 1, 4],\n",
    "       [0, 5, 1],\n",
    "       [1, 3, 5],\n",
    "       [1, 4, 3]], dtype=int32))\n",
    "```\n",
    "\n",
    "Looking just at the first row we get `[ 0.34763842,  0.24879643,  0.12789202]`, you can confirm these are the 3 largest probabilities in `a`. You'll also notice `[3, 0, 5]` are the corresponding indices."
   ]
  },
  {
   "cell_type": "code",
   "execution_count": 3,
   "metadata": {
    "collapsed": true
   },
   "outputs": [],
   "source": [
    "### Print out the top five softmax probabilities for the predictions on the German traffic sign images found on the web. \n",
    "### Feel free to use as many code cells as needed."
   ]
  },
  {
   "cell_type": "markdown",
   "metadata": {},
   "source": [
    "### Project Writeup\n",
    "\n",
    "Once you have completed the code implementation, document your results in a project writeup using this [template](https://github.com/udacity/CarND-Traffic-Sign-Classifier-Project/blob/master/writeup_template.md) as a guide. The writeup can be in a markdown or pdf file. "
   ]
  },
  {
   "cell_type": "markdown",
   "metadata": {},
   "source": [
    "> **Note**: Once you have completed all of the code implementations and successfully answered each question above, you may finalize your work by exporting the iPython Notebook as an HTML document. You can do this by using the menu above and navigating to  \\n\",\n",
    "    \"**File -> Download as -> HTML (.html)**. Include the finished document along with this notebook as your submission."
   ]
  },
  {
   "cell_type": "markdown",
   "metadata": {},
   "source": [
    "---\n",
    "\n",
    "## Step 4 (Optional): Visualize the Neural Network's State with Test Images\n",
    "\n",
    " This Section is not required to complete but acts as an additional excersise for understaning the output of a neural network's weights. While neural networks can be a great learning device they are often referred to as a black box. We can understand what the weights of a neural network look like better by plotting their feature maps. After successfully training your neural network you can see what it's feature maps look like by plotting the output of the network's weight layers in response to a test stimuli image. From these plotted feature maps, it's possible to see what characteristics of an image the network finds interesting. For a sign, maybe the inner network feature maps react with high activation to the sign's boundary outline or to the contrast in the sign's painted symbol.\n",
    "\n",
    " Provided for you below is the function code that allows you to get the visualization output of any tensorflow weight layer you want. The inputs to the function should be a stimuli image, one used during training or a new one you provided, and then the tensorflow variable name that represents the layer's state during the training process, for instance if you wanted to see what the [LeNet lab's](https://classroom.udacity.com/nanodegrees/nd013/parts/fbf77062-5703-404e-b60c-95b78b2f3f9e/modules/6df7ae49-c61c-4bb2-a23e-6527e69209ec/lessons/601ae704-1035-4287-8b11-e2c2716217ad/concepts/d4aca031-508f-4e0b-b493-e7b706120f81) feature maps looked like for it's second convolutional layer you could enter conv2 as the tf_activation variable.\n",
    "\n",
    "For an example of what feature map outputs look like, check out NVIDIA's results in their paper [End-to-End Deep Learning for Self-Driving Cars](https://devblogs.nvidia.com/parallelforall/deep-learning-self-driving-cars/) in the section Visualization of internal CNN State. NVIDIA was able to show that their network's inner weights had high activations to road boundary lines by comparing feature maps from an image with a clear path to one without. Try experimenting with a similar test to show that your trained network's weights are looking for interesting features, whether it's looking at differences in feature maps from images with or without a sign, or even what feature maps look like in a trained network vs a completely untrained one on the same sign image.\n",
    "\n",
    "<figure>\n",
    " <img src=\"visualize_cnn.png\" width=\"380\" alt=\"Combined Image\" />\n",
    " <figcaption>\n",
    " <p></p> \n",
    " <p style=\"text-align: center;\"> Your output should look something like this (above)</p> \n",
    " </figcaption>\n",
    "</figure>\n",
    " <p></p> \n"
   ]
  },
  {
   "cell_type": "code",
   "execution_count": null,
   "metadata": {
    "collapsed": true
   },
   "outputs": [],
   "source": [
    "### Visualize your network's feature maps here.\n",
    "### Feel free to use as many code cells as needed.\n",
    "\n",
    "# image_input: the test image being fed into the network to produce the feature maps\n",
    "# tf_activation: should be a tf variable name used during your training procedure that represents the calculated state of a specific weight layer\n",
    "# activation_min/max: can be used to view the activation contrast in more detail, by default matplot sets min and max to the actual min and max values of the output\n",
    "# plt_num: used to plot out multiple different weight feature map sets on the same block, just extend the plt number for each new feature map entry\n",
    "\n",
    "def outputFeatureMap(image_input, tf_activation, activation_min=-1, activation_max=-1 ,plt_num=1):\n",
    "    # Here make sure to preprocess your image_input in a way your network expects\n",
    "    # with size, normalization, ect if needed\n",
    "    # image_input =\n",
    "    # Note: x should be the same name as your network's tensorflow data placeholder variable\n",
    "    # If you get an error tf_activation is not defined it may be having trouble accessing the variable from inside a function\n",
    "    activation = tf_activation.eval(session=sess,feed_dict={x : image_input})\n",
    "    featuremaps = activation.shape[3]\n",
    "    plt.figure(plt_num, figsize=(15,15))\n",
    "    for featuremap in range(featuremaps):\n",
    "        plt.subplot(6,8, featuremap+1) # sets the number of feature maps to show on each row and column\n",
    "        plt.title('FeatureMap ' + str(featuremap)) # displays the feature map number\n",
    "        if activation_min != -1 & activation_max != -1:\n",
    "            plt.imshow(activation[0,:,:, featuremap], interpolation=\"nearest\", vmin =activation_min, vmax=activation_max, cmap=\"gray\")\n",
    "        elif activation_max != -1:\n",
    "            plt.imshow(activation[0,:,:, featuremap], interpolation=\"nearest\", vmax=activation_max, cmap=\"gray\")\n",
    "        elif activation_min !=-1:\n",
    "            plt.imshow(activation[0,:,:, featuremap], interpolation=\"nearest\", vmin=activation_min, cmap=\"gray\")\n",
    "        else:\n",
    "            plt.imshow(activation[0,:,:, featuremap], interpolation=\"nearest\", cmap=\"gray\")"
   ]
  }
 ],
 "metadata": {
  "anaconda-cloud": {},
  "kernelspec": {
   "display_name": "Python 3",
   "language": "python",
   "name": "python3"
  },
  "language_info": {
   "codemirror_mode": {
    "name": "ipython",
    "version": 3
   },
   "file_extension": ".py",
   "mimetype": "text/x-python",
   "name": "python",
   "nbconvert_exporter": "python",
   "pygments_lexer": "ipython3",
   "version": "3.5.2"
  },
  "widgets": {
   "state": {},
   "version": "1.1.2"
  }
 },
 "nbformat": 4,
 "nbformat_minor": 1
}
